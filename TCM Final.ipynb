{
 "cells": [
  {
   "cell_type": "code",
   "execution_count": null,
   "metadata": {},
   "outputs": [],
   "source": [
    "TS_people = ['Huck','Polly', 'Tom','Becky','Joe','Potter']\n",
    "TS_people_counts = {pp: np.char.count(TS_chapters, pp) for pp in TS_people}\n",
    "\n",
    "counts = Table().with_columns([\n",
    "        'Huck', TS_people_counts['Huck'],\n",
    "        'Polly', TS_people_counts['Polly'],\n",
    "        'Tom', TS_people_counts['Tom'],\n",
    "        'Becky', TS_people_counts['Becky'],\n",
    "        'Joe', TS_people_counts['Joe'],\n",
    "        'Potter', TS_people_counts['Potter'],\n",
    "    ])\n",
    "\n",
    "cum_counts = counts.cumsum().with_column('Chapter', np.arange(1, 36, 1)) \n",
    "cum_counts.plot(column_for_xticks=6)\n",
    "plots.title('Cumulative Number of Times Name Appears in Tom Sawyer');"
   ]
  },
  {
   "cell_type": "code",
   "execution_count": null,
   "metadata": {},
   "outputs": [],
   "source": [
    "HF_people = ['Huck','Jim', 'Tom']\n",
    "HF_people_counts = {pp: np.char.count(HF_chapters, pp) for pp in HF_people}\n",
    "\n",
    "counts = Table().with_columns([\n",
    "        'Huck', HF_people_counts['Huck'],\n",
    "        'Jim', HF_people_counts['Jim'],\n",
    "        'Tom', HF_people_counts['Tom'],\n",
    "    ])\n",
    "\n",
    "cum_counts = counts.cumsum().with_column('Chapter', np.arange(1, 44, 1)) \n",
    "cum_counts.plot(column_for_xticks=3)\n",
    "plots.title('Cumulative Number of Times Name Appears in Huckleberry Finn');"
   ]
  },
  {
   "cell_type": "code",
   "execution_count": null,
   "metadata": {},
   "outputs": [],
   "source": [
    "TS_emotion = ['happy','excited','hilarious','joy','tears','cried','sad']\n",
    "TS_emotion_counts = {pp: np.char.count(TS_chapters, pp) for pp in TS_emotion}\n",
    "\n",
    "counts = Table().with_columns([\n",
    "        'happy', TS_emotion_counts['happy'],\n",
    "        'excited', TS_emotion_counts['excited'],\n",
    "        'hilarious', TS_emotion_counts['hilarious'],\n",
    "        'joy', TS_emotion_counts['joy'],\n",
    "        'tears', TS_emotion_counts['tears'],\n",
    "        'cried', TS_emotion_counts['cried'],\n",
    "        'sad', TS_emotion_counts['sad']\n",
    "    ])\n",
    "\n",
    "cum_counts = counts.cumsum().with_column('Chapter', np.arange(1, 36, 1)) \n",
    "cum_counts.plot(column_for_xticks=7)\n",
    "plots.title('Cumulative Number of Emotion Words in Tom Sawyer');"
   ]
  },
  {
   "cell_type": "code",
   "execution_count": null,
   "metadata": {},
   "outputs": [],
   "source": [
    "HF_emotion = ['happy','excited','hilarious','joy','tears','cried','sad']\n",
    "HF_emotion_counts = {pp: np.char.count(HF_chapters, pp) for pp in HF_emotion}\n",
    "\n",
    "counts = Table().with_columns([\n",
    "        'happy', HF_emotion_counts['happy'],\n",
    "        'excited', HF_emotion_counts['excited'],\n",
    "        'hilarious', HF_emotion_counts['hilarious'],\n",
    "        'joy', HF_emotion_counts['joy'],\n",
    "        'tears', HF_emotion_counts['tears'],\n",
    "        'cried', HF_emotion_counts['cried'],\n",
    "        'sad', HF_emotion_counts['sad']\n",
    "    ])\n",
    "\n",
    "cum_counts = counts.cumsum().with_column('Chapter', np.arange(1, 44, 1)) \n",
    "cum_counts.plot(column_for_xticks=7)\n",
    "plots.title('Cumulative Number of Emotion Words in Huckleberry Finn');"
   ]
  },
  {
   "cell_type": "code",
   "execution_count": null,
   "metadata": {},
   "outputs": [],
   "source": [
    "def tok(text: str, flag: int=2) -> Union[List[str], Set[str], Dict[str, int]]:\n",
    "        return Counter([t.txt for t in tokenize(text) if t.txt])"
   ]
  },
  {
   "cell_type": "code",
   "execution_count": null,
   "metadata": {},
   "outputs": [],
   "source": [
    "TS=tok(TS_text)\n",
    "temp={}\n",
    "for k, v in sorted(TS.items(), key=lambda x: x[1], reverse=True)[:30]:\n",
    "    temp[k]=v\n",
    "    \n",
    "plots.figure(figsize=(20,7))\n",
    "plots.bar(range(len(temp)), list(temp.values()), align='center')\n",
    "plots.xticks(range(len(temp)), list(temp.keys()))\n",
    "plots.xlabel(\"Word and Special Character in Tom Sawyer\")\n",
    "plots.ylabel(\"Appearance Frequency\")\n",
    "plots.show()"
   ]
  },
  {
   "cell_type": "code",
   "execution_count": null,
   "metadata": {},
   "outputs": [],
   "source": [
    "HF=tok(HF_text)\n",
    "temp={}\n",
    "for k, v in sorted(HF.items(), key=lambda x: x[1], reverse=True)[:30]:\n",
    "    temp[k]=v\n",
    "    \n",
    "plots.figure(figsize=(20,7))\n",
    "plots.bar(range(len(temp)), list(temp.values()), align='center',color='green')\n",
    "plots.xticks(range(len(temp)), list(temp.keys()))\n",
    "plots.xlabel(\"Word and Special Character in Huckleberry Finn\")\n",
    "plots.ylabel(\"Appearance Frequency\")\n",
    "plots.show()"
   ]
  },
  {
   "cell_type": "code",
   "execution_count": null,
   "metadata": {},
   "outputs": [],
   "source": [
    "TS_List=[]\n",
    "for i in TS.items():\n",
    "    TS_List.append(i[0])\n",
    "    \n",
    "HF_List=[]\n",
    "for i in HF.items():\n",
    "    HF_List.append(i[0])"
   ]
  },
  {
   "cell_type": "code",
   "execution_count": null,
   "metadata": {},
   "outputs": [],
   "source": [
    "HF_Only={}\n",
    "for i in HF.items():\n",
    "    if i[0] not in TS_List:\n",
    "        HF_Only[i[0]]=i[1]\n",
    "        \n",
    "temp={}\n",
    "for k, v in sorted(HF_Only.items(), key=lambda x: x[1], reverse=True)[:20]:\n",
    "    temp[k]=v\n",
    "    \n",
    "plots.figure(figsize=(20,5))\n",
    "plots.bar(range(len(temp)), list(temp.values()), align='center',color='orange')\n",
    "plots.xticks(range(len(temp)), list(temp.keys()))\n",
    "plots.xlabel(\"Huckleberry Finn Unique Word\")\n",
    "plots.ylabel(\"Appearance Frequency\")\n",
    "plots.show()"
   ]
  },
  {
   "cell_type": "code",
   "execution_count": 1,
   "metadata": {},
   "outputs": [
    {
     "ename": "NameError",
     "evalue": "name 'TS' is not defined",
     "output_type": "error",
     "traceback": [
      "\u001b[0;31m---------------------------------------------------------------------------\u001b[0m",
      "\u001b[0;31mNameError\u001b[0m                                 Traceback (most recent call last)",
      "\u001b[0;32m<ipython-input-1-a773baff75f3>\u001b[0m in \u001b[0;36m<module>\u001b[0;34m\u001b[0m\n\u001b[1;32m      1\u001b[0m \u001b[0mTS_Only\u001b[0m\u001b[0;34m=\u001b[0m\u001b[0;34m{\u001b[0m\u001b[0;34m}\u001b[0m\u001b[0;34m\u001b[0m\u001b[0;34m\u001b[0m\u001b[0m\n\u001b[0;32m----> 2\u001b[0;31m \u001b[0;32mfor\u001b[0m \u001b[0mi\u001b[0m \u001b[0;32min\u001b[0m \u001b[0mTS\u001b[0m\u001b[0;34m.\u001b[0m\u001b[0mitems\u001b[0m\u001b[0;34m(\u001b[0m\u001b[0;34m)\u001b[0m\u001b[0;34m:\u001b[0m\u001b[0;34m\u001b[0m\u001b[0;34m\u001b[0m\u001b[0m\n\u001b[0m\u001b[1;32m      3\u001b[0m     \u001b[0;32mif\u001b[0m \u001b[0mi\u001b[0m\u001b[0;34m[\u001b[0m\u001b[0;36m0\u001b[0m\u001b[0;34m]\u001b[0m \u001b[0;32mnot\u001b[0m \u001b[0;32min\u001b[0m \u001b[0mHF_List\u001b[0m\u001b[0;34m:\u001b[0m\u001b[0;34m\u001b[0m\u001b[0;34m\u001b[0m\u001b[0m\n\u001b[1;32m      4\u001b[0m         \u001b[0mTS_Only\u001b[0m\u001b[0;34m[\u001b[0m\u001b[0mi\u001b[0m\u001b[0;34m[\u001b[0m\u001b[0;36m0\u001b[0m\u001b[0;34m]\u001b[0m\u001b[0;34m]\u001b[0m\u001b[0;34m=\u001b[0m\u001b[0mi\u001b[0m\u001b[0;34m[\u001b[0m\u001b[0;36m1\u001b[0m\u001b[0;34m]\u001b[0m\u001b[0;34m\u001b[0m\u001b[0;34m\u001b[0m\u001b[0m\n\u001b[1;32m      5\u001b[0m \u001b[0;34m\u001b[0m\u001b[0m\n",
      "\u001b[0;31mNameError\u001b[0m: name 'TS' is not defined"
     ]
    }
   ],
   "source": [
    "TS_Only={}\n",
    "for i in TS.items():\n",
    "    if i[0] not in HF_List:\n",
    "        TS_Only[i[0]]=i[1]\n",
    "        \n",
    "temp={}\n",
    "for k, v in sorted(TS_Only.items(), key=lambda x: x[1], reverse=True)[:20]:\n",
    "    temp[k]=v\n",
    "    \n",
    "plots.figure(figsize=(25,5))\n",
    "plots.bar(range(len(temp)), list(temp.values()), align='center',color='purple')\n",
    "plots.xticks(range(len(temp)), list(temp.keys()))\n",
    "plots.xlabel(\"Tom Sawyer Unique Word\")\n",
    "plots.ylabel(\"Appearance Frequency\")\n",
    "plots.show()"
   ]
  },
  {
   "cell_type": "code",
   "execution_count": null,
   "metadata": {},
   "outputs": [],
   "source": []
  }
 ],
 "metadata": {
  "kernelspec": {
   "display_name": "Python 3",
   "language": "python",
   "name": "python3"
  },
  "language_info": {
   "codemirror_mode": {
    "name": "ipython",
    "version": 3
   },
   "file_extension": ".py",
   "mimetype": "text/x-python",
   "name": "python",
   "nbconvert_exporter": "python",
   "pygments_lexer": "ipython3",
   "version": "3.7.3"
  }
 },
 "nbformat": 4,
 "nbformat_minor": 2
}
